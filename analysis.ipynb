{
 "cells": [
  {
   "cell_type": "code",
   "execution_count": 6,
   "id": "70f720e7",
   "metadata": {},
   "outputs": [
    {
     "ename": "NameError",
     "evalue": "name 'kagglehub' is not defined",
     "output_type": "error",
     "traceback": [
      "\u001b[31m---------------------------------------------------------------------------\u001b[39m",
      "\u001b[31mNameError\u001b[39m                                 Traceback (most recent call last)",
      "\u001b[36mCell\u001b[39m\u001b[36m \u001b[39m\u001b[32mIn[6]\u001b[39m\u001b[32m, line 1\u001b[39m\n\u001b[32m----> \u001b[39m\u001b[32m1\u001b[39m path = \u001b[43mkagglehub\u001b[49m.dataset_download(\u001b[33m\"\u001b[39m\u001b[33mfatemehmehrparvar/lung-disease\u001b[39m\u001b[33m\"\u001b[39m)\n\u001b[32m      2\u001b[39m data_dir = tf.keras.utils.get_file(origin=path, extract=\u001b[38;5;28;01mTrue\u001b[39;00m)\n\u001b[32m      3\u001b[39m data_dir = pathlib.Path(data_dir).with_suffix(\u001b[33m'\u001b[39m\u001b[33m'\u001b[39m)\n",
      "\u001b[31mNameError\u001b[39m: name 'kagglehub' is not defined"
     ]
    }
   ],
   "source": [
    "path = kagglehub.dataset_download(\"fatemehmehrparvar/lung-disease\")\n",
    "data_dir = tf.keras.utils.get_file(origin=path, extract=True)\n",
    "data_dir = pathlib.Path(data_dir).with_suffix('')"
   ]
  }
 ],
 "metadata": {
  "kernelspec": {
   "display_name": "Python 3",
   "language": "python",
   "name": "python3"
  },
  "language_info": {
   "codemirror_mode": {
    "name": "ipython",
    "version": 3
   },
   "file_extension": ".py",
   "mimetype": "text/x-python",
   "name": "python",
   "nbconvert_exporter": "python",
   "pygments_lexer": "ipython3",
   "version": "3.11.9"
  }
 },
 "nbformat": 4,
 "nbformat_minor": 5
}
